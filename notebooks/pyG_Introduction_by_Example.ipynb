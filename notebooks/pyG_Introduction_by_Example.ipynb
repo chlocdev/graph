{
 "cells": [
  {
   "cell_type": "markdown",
   "id": "a62da887-db1c-4501-bfc2-bcf6a15153cc",
   "metadata": {},
   "source": [
    "# Data Handling of Graphs\n",
    "\n",
    "A single graph: `torch.geometric.data.Data` hold following attributes by default:\n",
    "- `data.x` (`[num_nodes, num_node_features]`): Node feature matrix\n",
    "- `data.edge_index` (`[2, num_edges]`): Graph connectivity in [COO format](https://pytorch.org/docs/stable/sparse.html#sparse-coo-docs) type `torch.long`\n",
    "- `data.edge_attr` (`[num_edges, num_edge_features]`): Edge feature matrix\n",
    "- `data.y` (Node-level targets of shape `[num_nodes, *]` or graph-level targets of shape  `[1, *]`): Target to train against\n",
    "- `data.x` (`[num_nodes, num_dimensions]`): Node position matrix"
   ]
  },
  {
   "cell_type": "code",
   "execution_count": 1,
   "id": "79ca0c7d-caa7-4258-bd6e-38afe04dd4a5",
   "metadata": {},
   "outputs": [],
   "source": [
    "import os\n",
    "import torch\n",
    "import torch_geometric\n",
    "from torch_geometric.data import Data"
   ]
  },
  {
   "cell_type": "code",
   "execution_count": 2,
   "id": "1c0511a0-c182-41db-8378-484acc4fe73b",
   "metadata": {},
   "outputs": [
    {
     "name": "stdout",
     "output_type": "stream",
     "text": [
      "2.3.1+cu121\n",
      "12.1\n",
      "True\n",
      "2.4.0\n"
     ]
    }
   ],
   "source": [
    "print(torch.__version__)\n",
    "print(torch.version.cuda)\n",
    "print(torch.cuda.is_available())\n",
    "print(torch_geometric.__version__)"
   ]
  },
  {
   "cell_type": "code",
   "execution_count": 3,
   "id": "88f48dfb-0ab1-4278-9cd8-82ac003d0805",
   "metadata": {},
   "outputs": [
    {
     "data": {
      "text/plain": [
       "Data(x=[3, 1], edge_index=[2, 4])"
      ]
     },
     "execution_count": 3,
     "metadata": {},
     "output_type": "execute_result"
    }
   ],
   "source": [
    "# Define source-target nodes of all edges\n",
    "edge_index  = torch.tensor([[0, 1, 1, 2],            \n",
    "                            [1, 0, 2, 1]], dtype=torch.long)\n",
    "\n",
    "x = torch.tensor([[-1],[0],[1]], dtype=torch.float)\n",
    "\n",
    "data = Data(x=x, edge_index = edge_index)\n",
    "data"
   ]
  },
  {
   "cell_type": "markdown",
   "id": "fe1a727b-8eb3-4d65-af1f-6adc55fc6a4a",
   "metadata": {},
   "source": [
    "If you want to write your indices this way, you should transpose and call `contiguous` on it before passing them to the data constructor:"
   ]
  },
  {
   "cell_type": "code",
   "execution_count": 4,
   "id": "df59b491-8c98-427e-bf29-9684fe8a1bf0",
   "metadata": {},
   "outputs": [
    {
     "data": {
      "text/plain": [
       "Data(x=[3, 1], edge_index=[2, 4])"
      ]
     },
     "execution_count": 4,
     "metadata": {},
     "output_type": "execute_result"
    }
   ],
   "source": [
    "x = torch.tensor([[-1],[0],[1]], dtype=torch.float) # [3,1]\n",
    "\n",
    "edge_index = torch.tensor([[0,1], # node 0->1\n",
    "                           [1,0], # node 1->0\n",
    "                           [1,2],\n",
    "                           [2,1],\n",
    "                        ],dtype=torch.long)\n",
    "\n",
    "data = Data(x=x, edge_index = edge_index.t().contiguous())\n",
    "data"
   ]
  },
  {
   "cell_type": "code",
   "execution_count": 5,
   "id": "bbd0054e-07de-4118-bb50-bbdee4cb4eff",
   "metadata": {},
   "outputs": [
    {
     "data": {
      "text/plain": [
       "True"
      ]
     },
     "execution_count": 5,
     "metadata": {},
     "output_type": "execute_result"
    }
   ],
   "source": [
    "# Check your final Data object\n",
    "data.validate(raise_on_error=True)"
   ]
  },
  {
   "cell_type": "markdown",
   "id": "3bb07819-b990-4624-9564-9675865e6c07",
   "metadata": {},
   "source": [
    "Besides holding a number of node-level, edge-level or graph-level attributes, Data provides a number of useful utility functions, e.g."
   ]
  },
  {
   "cell_type": "code",
   "execution_count": 6,
   "id": "69b9136d-f7b4-4a8e-9c82-27f017912e8c",
   "metadata": {},
   "outputs": [
    {
     "name": "stdout",
     "output_type": "stream",
     "text": [
      "['edge_index', 'x']\n"
     ]
    }
   ],
   "source": [
    "print(data.keys())"
   ]
  },
  {
   "cell_type": "code",
   "execution_count": 7,
   "id": "3f357cc1-0562-4d98-8d6e-fb4785a4c6fa",
   "metadata": {},
   "outputs": [
    {
     "name": "stdout",
     "output_type": "stream",
     "text": [
      "tensor([[-1.],\n",
      "        [ 0.],\n",
      "        [ 1.]])\n"
     ]
    }
   ],
   "source": [
    "print(data['x'])"
   ]
  },
  {
   "cell_type": "code",
   "execution_count": 8,
   "id": "98575bd6-f5a0-44f5-a83e-8a6e41f81c8e",
   "metadata": {},
   "outputs": [
    {
     "name": "stdout",
     "output_type": "stream",
     "text": [
      "x: found in data\n",
      "edge_index: found in data\n"
     ]
    }
   ],
   "source": [
    "for key, item in data:\n",
    "    print(f'{key}: found in data')"
   ]
  },
  {
   "cell_type": "code",
   "execution_count": 9,
   "id": "bc4500a9-0390-4b2a-b8a3-0803ef36f758",
   "metadata": {},
   "outputs": [
    {
     "data": {
      "text/plain": [
       "False"
      ]
     },
     "execution_count": 9,
     "metadata": {},
     "output_type": "execute_result"
    }
   ],
   "source": [
    "'edge_attr' in data"
   ]
  },
  {
   "cell_type": "markdown",
   "id": "b7014a2c-982e-4209-aecb-80e31e9a9ca7",
   "metadata": {},
   "source": [
    "Analyzing the graph structure"
   ]
  },
  {
   "cell_type": "code",
   "execution_count": 10,
   "id": "2fe8f51d-0804-4ba1-9a8f-b189e8de533f",
   "metadata": {},
   "outputs": [
    {
     "data": {
      "text/plain": [
       "3"
      ]
     },
     "execution_count": 10,
     "metadata": {},
     "output_type": "execute_result"
    }
   ],
   "source": [
    "data.num_nodes"
   ]
  },
  {
   "cell_type": "code",
   "execution_count": 11,
   "id": "a0c3d6a9-24c1-4e94-afb4-9dc7238d7c24",
   "metadata": {},
   "outputs": [
    {
     "data": {
      "text/plain": [
       "4"
      ]
     },
     "execution_count": 11,
     "metadata": {},
     "output_type": "execute_result"
    }
   ],
   "source": [
    "data.num_edges"
   ]
  },
  {
   "cell_type": "code",
   "execution_count": 12,
   "id": "9dad25a7-972b-42f6-92cd-6994d552f9ac",
   "metadata": {},
   "outputs": [
    {
     "data": {
      "text/plain": [
       "1"
      ]
     },
     "execution_count": 12,
     "metadata": {},
     "output_type": "execute_result"
    }
   ],
   "source": [
    "data.num_node_features"
   ]
  },
  {
   "cell_type": "code",
   "execution_count": 13,
   "id": "d94312c8-9859-4b8e-ac9e-674fc1e8da4f",
   "metadata": {},
   "outputs": [
    {
     "data": {
      "text/plain": [
       "False"
      ]
     },
     "execution_count": 13,
     "metadata": {},
     "output_type": "execute_result"
    }
   ],
   "source": [
    "data.has_isolated_nodes()"
   ]
  },
  {
   "cell_type": "code",
   "execution_count": 14,
   "id": "7794d93a-1950-49ce-8d84-0771d0dcf81c",
   "metadata": {},
   "outputs": [
    {
     "data": {
      "text/plain": [
       "False"
      ]
     },
     "execution_count": 14,
     "metadata": {},
     "output_type": "execute_result"
    }
   ],
   "source": [
    "data.has_self_loops()"
   ]
  },
  {
   "cell_type": "code",
   "execution_count": 15,
   "id": "17e5b97e-1fc7-4b0d-8107-f321015696b8",
   "metadata": {},
   "outputs": [
    {
     "name": "stdout",
     "output_type": "stream",
     "text": [
      "Transfer to: cuda\n"
     ]
    }
   ],
   "source": [
    "# Transfer data object to GPU\n",
    "device = torch.device('cuda') if torch.cuda.is_available() else 'cpu'\n",
    "print('Transfer to:',device)\n",
    "\n",
    "data = data.to(device)"
   ]
  },
  {
   "cell_type": "markdown",
   "id": "d6353345-212c-4ea8-afee-3819c16d0477",
   "metadata": {},
   "source": [
    "# Common Benchmark Datasets\n",
    "- [Homogeneous Datasets](https://pytorch-geometric.readthedocs.io/en/latest/modules/datasets.html#id19)\n",
    "- [Heterogeneous Datasets](https://pytorch-geometric.readthedocs.io/en/latest/modules/datasets.html#id20)\n",
    "- [Hypergraph Datasets](https://pytorch-geometric.readthedocs.io/en/latest/modules/datasets.html#id21)\n",
    "- [Synthetic Datasets](https://pytorch-geometric.readthedocs.io/en/latest/modules/datasets.html#id22)\n",
    "- [Graph Generators](https://pytorch-geometric.readthedocs.io/en/latest/modules/datasets.html#graph-generators)\n",
    "- [Motif Generators](https://pytorch-geometric.readthedocs.io/en/latest/modules/datasets.html#id24)"
   ]
  },
  {
   "cell_type": "code",
   "execution_count": 17,
   "id": "e15b27f0-df26-4ca2-9208-499f8402ee22",
   "metadata": {},
   "outputs": [],
   "source": [
    "from torch_geometric.datasets import TUDataset"
   ]
  },
  {
   "cell_type": "code",
   "execution_count": 18,
   "id": "b930ec2b-12af-48ea-b55b-c31d3ac1c68a",
   "metadata": {},
   "outputs": [],
   "source": [
    "# https://pytorch-geometric.readthedocs.io/en/latest/generated/torch_geometric.datasets.TUDataset.html#torch_geometric.datasets.TUDataset\n",
    "dataset = TUDataset(name='ENZYMES',root='./tmp/ENZYMES')"
   ]
  },
  {
   "cell_type": "code",
   "execution_count": 19,
   "id": "2e42084f-60cb-4105-8ac3-7dea362d18d3",
   "metadata": {},
   "outputs": [
    {
     "data": {
      "text/plain": [
       "600"
      ]
     },
     "execution_count": 19,
     "metadata": {},
     "output_type": "execute_result"
    }
   ],
   "source": [
    "len(dataset)"
   ]
  },
  {
   "cell_type": "code",
   "execution_count": 20,
   "id": "74a2a04b-2861-479a-8f59-38d6ae4abef4",
   "metadata": {},
   "outputs": [
    {
     "data": {
      "text/plain": [
       "6"
      ]
     },
     "execution_count": 20,
     "metadata": {},
     "output_type": "execute_result"
    }
   ],
   "source": [
    "dataset.num_classes"
   ]
  },
  {
   "cell_type": "code",
   "execution_count": 21,
   "id": "d36e93af-c49e-480c-84b9-85f0448fe09e",
   "metadata": {},
   "outputs": [
    {
     "data": {
      "text/plain": [
       "3"
      ]
     },
     "execution_count": 21,
     "metadata": {},
     "output_type": "execute_result"
    }
   ],
   "source": [
    "dataset.num_node_features"
   ]
  },
  {
   "cell_type": "code",
   "execution_count": 22,
   "id": "6109859d-f3fb-4036-a197-75b928bc5ac9",
   "metadata": {},
   "outputs": [],
   "source": [
    "dataset = dataset.shuffle()"
   ]
  },
  {
   "cell_type": "code",
   "execution_count": 23,
   "id": "c6f1464f-f847-49c1-9df5-52b4868849e7",
   "metadata": {},
   "outputs": [
    {
     "data": {
      "text/plain": [
       "Data(edge_index=[2, 74], x=[20, 3], y=[1])"
      ]
     },
     "execution_count": 23,
     "metadata": {},
     "output_type": "execute_result"
    }
   ],
   "source": [
    "data = dataset[0]\n",
    "data"
   ]
  },
  {
   "cell_type": "code",
   "execution_count": 24,
   "id": "4fbb2c71-2f39-4722-9ac4-1d754e43398b",
   "metadata": {},
   "outputs": [
    {
     "data": {
      "text/plain": [
       "True"
      ]
     },
     "execution_count": 24,
     "metadata": {},
     "output_type": "execute_result"
    }
   ],
   "source": [
    "data.is_undirected()"
   ]
  },
  {
   "cell_type": "code",
   "execution_count": 25,
   "id": "a7e11939-e62b-4b43-9386-86910fd36a60",
   "metadata": {},
   "outputs": [],
   "source": [
    "train_dataset = dataset[:540]"
   ]
  },
  {
   "cell_type": "code",
   "execution_count": 26,
   "id": "0897b69c-9121-4ed8-bc84-27eedd92b525",
   "metadata": {},
   "outputs": [],
   "source": [
    "test_dataset = dataset[540:]"
   ]
  },
  {
   "cell_type": "markdown",
   "id": "ef0adf48-c78e-4924-bacd-1f3ef72bef91",
   "metadata": {},
   "source": [
    "Let’s try another one! Let’s download Cora, the standard benchmark dataset for semi-supervised graph node classification:"
   ]
  },
  {
   "cell_type": "code",
   "execution_count": 27,
   "id": "19f0ad7b-fd7b-4758-a1c4-52a3e6da1e13",
   "metadata": {},
   "outputs": [],
   "source": [
    "from torch_geometric.datasets import Planetoid"
   ]
  },
  {
   "cell_type": "code",
   "execution_count": 28,
   "id": "1903b75f-191a-495b-849b-55e07140d5f7",
   "metadata": {},
   "outputs": [],
   "source": [
    "dataset = Planetoid(name='Cora',root='./tmp/Cora')"
   ]
  },
  {
   "cell_type": "code",
   "execution_count": 29,
   "id": "691a0aa0-8972-493e-8b94-7d6217e07282",
   "metadata": {},
   "outputs": [
    {
     "data": {
      "text/plain": [
       "1"
      ]
     },
     "execution_count": 29,
     "metadata": {},
     "output_type": "execute_result"
    }
   ],
   "source": [
    "len(dataset) # Number of graph"
   ]
  },
  {
   "cell_type": "code",
   "execution_count": 30,
   "id": "e8d02c7b-070d-4a95-86d1-e7ff8c4df078",
   "metadata": {},
   "outputs": [
    {
     "data": {
      "text/plain": [
       "20"
      ]
     },
     "execution_count": 30,
     "metadata": {},
     "output_type": "execute_result"
    }
   ],
   "source": [
    "data.num_nodes"
   ]
  },
  {
   "cell_type": "code",
   "execution_count": 31,
   "id": "1e638773-081c-4cfc-9e70-eb5d326a4783",
   "metadata": {},
   "outputs": [
    {
     "data": {
      "text/plain": [
       "7"
      ]
     },
     "execution_count": 31,
     "metadata": {},
     "output_type": "execute_result"
    }
   ],
   "source": [
    "dataset.num_classes # Number of classes"
   ]
  },
  {
   "cell_type": "code",
   "execution_count": 32,
   "id": "1b6e1e50-8de9-43e9-9b6e-0e56d8ab2a56",
   "metadata": {},
   "outputs": [
    {
     "data": {
      "text/plain": [
       "1433"
      ]
     },
     "execution_count": 32,
     "metadata": {},
     "output_type": "execute_result"
    }
   ],
   "source": [
    "dataset.num_node_features"
   ]
  },
  {
   "cell_type": "code",
   "execution_count": 33,
   "id": "d5ef82ae-1cc1-4813-8bfe-1583a6e41cbf",
   "metadata": {},
   "outputs": [
    {
     "data": {
      "text/plain": [
       "Data(x=[2708, 1433], edge_index=[2, 10556], y=[2708], train_mask=[2708], val_mask=[2708], test_mask=[2708])"
      ]
     },
     "execution_count": 33,
     "metadata": {},
     "output_type": "execute_result"
    }
   ],
   "source": [
    "# The dataset contains only a single, undirected citation graph\n",
    "# This time, the Data objects holds a label for each node, and additional node-level attributes\n",
    "data = dataset[0]\n",
    "data"
   ]
  },
  {
   "cell_type": "code",
   "execution_count": 34,
   "id": "247f9789-dffb-474b-b696-c3f66e32ff7b",
   "metadata": {},
   "outputs": [
    {
     "data": {
      "text/plain": [
       "True"
      ]
     },
     "execution_count": 34,
     "metadata": {},
     "output_type": "execute_result"
    }
   ],
   "source": [
    "data.is_undirected()"
   ]
  },
  {
   "cell_type": "code",
   "execution_count": 35,
   "id": "84846fcf-b998-482d-8b19-24f292fa9c86",
   "metadata": {},
   "outputs": [
    {
     "data": {
      "text/plain": [
       "140"
      ]
     },
     "execution_count": 35,
     "metadata": {},
     "output_type": "execute_result"
    }
   ],
   "source": [
    "data.train_mask.sum().item() # denotes against which nodes to train (140 nodes),"
   ]
  },
  {
   "cell_type": "code",
   "execution_count": 36,
   "id": "d3406e2e-9ea9-47c9-90be-cecc056bfeb4",
   "metadata": {},
   "outputs": [
    {
     "data": {
      "text/plain": [
       "500"
      ]
     },
     "execution_count": 36,
     "metadata": {},
     "output_type": "execute_result"
    }
   ],
   "source": [
    "data.val_mask.sum().item() # denotes which nodes to use for validation, e.g., to perform early stopping (500 nodes)"
   ]
  },
  {
   "cell_type": "code",
   "execution_count": 37,
   "id": "e9412f0c-6e57-466c-b414-a8e30a2f15bd",
   "metadata": {},
   "outputs": [
    {
     "data": {
      "text/plain": [
       "1000"
      ]
     },
     "execution_count": 37,
     "metadata": {},
     "output_type": "execute_result"
    }
   ],
   "source": [
    "data.test_mask.sum().item() # denotes against which nodes to test (1000 nodes)."
   ]
  },
  {
   "cell_type": "markdown",
   "id": "173af7a7-fdc8-4b76-82d6-316959319de8",
   "metadata": {},
   "source": [
    "# Mini-batches"
   ]
  },
  {
   "cell_type": "code",
   "execution_count": 38,
   "id": "e21a0065-bfcf-44b1-bfd8-22e189a9bd0f",
   "metadata": {},
   "outputs": [],
   "source": [
    "from torch_geometric.loader import DataLoader"
   ]
  },
  {
   "cell_type": "code",
   "execution_count": 39,
   "id": "9762be79-35e0-49b1-a079-0d8191d4fe90",
   "metadata": {},
   "outputs": [
    {
     "name": "stdout",
     "output_type": "stream",
     "text": [
      "600\n",
      "18.75\n",
      "0 32\n",
      "1 32\n",
      "2 32\n",
      "3 32\n",
      "4 32\n",
      "5 32\n",
      "6 32\n",
      "7 32\n",
      "8 32\n",
      "9 32\n",
      "10 32\n",
      "11 32\n",
      "12 32\n",
      "13 32\n",
      "14 32\n",
      "15 32\n",
      "16 32\n",
      "17 32\n",
      "18 24\n"
     ]
    }
   ],
   "source": [
    "dataset = TUDataset(root='./tmp/ENZYMES', name='ENZYMES', use_node_attr=True)\n",
    "loader = DataLoader(dataset, batch_size=32, shuffle=True)\n",
    "\n",
    "print(len(dataset))\n",
    "print(600/32)\n",
    "\n",
    "for i,batch in enumerate(loader):\n",
    "    print(i,len(batch))"
   ]
  },
  {
   "cell_type": "code",
   "execution_count": 40,
   "id": "39aef5ff-99b3-4c9a-88ca-daa93aa496cb",
   "metadata": {},
   "outputs": [
    {
     "data": {
      "text/plain": [
       "DataBatch(edge_index=[2, 2544], x=[658, 21], y=[24], batch=[658], ptr=[25])"
      ]
     },
     "execution_count": 40,
     "metadata": {},
     "output_type": "execute_result"
    }
   ],
   "source": [
    "batch"
   ]
  },
  {
   "cell_type": "code",
   "execution_count": 41,
   "id": "1cd0c3c4-0024-4ad3-b4de-183982004ddd",
   "metadata": {},
   "outputs": [
    {
     "data": {
      "text/plain": [
       "DataBatch(edge_index=[2, 2544], x=[658, 21], y=[24], batch=[658], ptr=[25])"
      ]
     },
     "execution_count": 41,
     "metadata": {},
     "output_type": "execute_result"
    }
   ],
   "source": [
    "batch"
   ]
  },
  {
   "cell_type": "code",
   "execution_count": 42,
   "id": "d2fb4f09-0621-4f16-aa7b-59ec2e307148",
   "metadata": {},
   "outputs": [
    {
     "data": {
      "text/plain": [
       "24"
      ]
     },
     "execution_count": 42,
     "metadata": {},
     "output_type": "execute_result"
    }
   ],
   "source": [
    "batch.num_graphs"
   ]
  },
  {
   "cell_type": "markdown",
   "id": "48a88e4f-2626-453e-a717-517ed67384e2",
   "metadata": {},
   "source": [
    "You can use it to, e.g., average node features in the node dimension for each graph individually"
   ]
  },
  {
   "cell_type": "code",
   "execution_count": 43,
   "id": "77beb967-63c7-49c7-be0f-a904a3189edd",
   "metadata": {},
   "outputs": [],
   "source": [
    "from torch_geometric.utils import scatter"
   ]
  },
  {
   "cell_type": "code",
   "execution_count": 44,
   "id": "44bc870b-4ee8-4023-82a9-d660592fc7d1",
   "metadata": {},
   "outputs": [
    {
     "name": "stdout",
     "output_type": "stream",
     "text": [
      "torch.Size([32, 21])\n",
      "torch.Size([32, 21])\n",
      "torch.Size([32, 21])\n",
      "torch.Size([32, 21])\n",
      "torch.Size([32, 21])\n",
      "torch.Size([32, 21])\n",
      "torch.Size([32, 21])\n",
      "torch.Size([32, 21])\n",
      "torch.Size([32, 21])\n",
      "torch.Size([32, 21])\n",
      "torch.Size([32, 21])\n",
      "torch.Size([32, 21])\n",
      "torch.Size([32, 21])\n",
      "torch.Size([32, 21])\n",
      "torch.Size([32, 21])\n",
      "torch.Size([32, 21])\n",
      "torch.Size([32, 21])\n",
      "torch.Size([32, 21])\n",
      "torch.Size([24, 21])\n"
     ]
    }
   ],
   "source": [
    "dataset = TUDataset(root='./tmp/ENZYMES', name='ENZYMES', use_node_attr=True)\n",
    "loader = DataLoader(dataset, batch_size=32, shuffle=True)\n",
    "\n",
    "for data in loader:\n",
    "    x = scatter(data.x, data.batch, dim=0, reduce='mean')\n",
    "    print(x.size())"
   ]
  },
  {
   "cell_type": "markdown",
   "id": "4f9f0e66-8eac-4cae-b477-821219aac441",
   "metadata": {},
   "source": [
    "# Data Transforms\n",
    "\n",
    "Transforms are a common way in `torchvision` to transform images and perform augmentation. PyG comes with its own transforms, which expect a Data object as input and return a new transformed `Data` object. Transforms can be chained together using `torch_geometric.transforms.Compose` and are applied before saving a processed dataset on disk (`pre_transform`) or before accessing a graph in a dataset (`transform`)."
   ]
  },
  {
   "cell_type": "code",
   "execution_count": 45,
   "id": "f0805135-ddb2-4700-ae50-74f41212b8de",
   "metadata": {},
   "outputs": [],
   "source": [
    "from torch_geometric.datasets import ShapeNet"
   ]
  },
  {
   "cell_type": "code",
   "execution_count": 46,
   "id": "3dd3c461-e2c0-4770-bb29-eaaa4990aa61",
   "metadata": {},
   "outputs": [
    {
     "name": "stdout",
     "output_type": "stream",
     "text": [
      "2349\n"
     ]
    },
    {
     "data": {
      "text/plain": [
       "Data(x=[2518, 3], y=[2518], pos=[2518, 3], category=[1])"
      ]
     },
     "execution_count": 46,
     "metadata": {},
     "output_type": "execute_result"
    }
   ],
   "source": [
    "dataset = ShapeNet(root='./tmp/ShapeNet', categories=['Airplane'])\n",
    "print(len(dataset))\n",
    "dataset[0]"
   ]
  },
  {
   "cell_type": "code",
   "execution_count": 47,
   "id": "f5966460-7bb8-48ec-9c13-7d42efad0efd",
   "metadata": {},
   "outputs": [],
   "source": [
    "import torch_geometric.transforms as T"
   ]
  },
  {
   "cell_type": "code",
   "execution_count": 48,
   "id": "b7aa9d90-5d2b-4177-bf64-41e268ae5b18",
   "metadata": {},
   "outputs": [
    {
     "name": "stderr",
     "output_type": "stream",
     "text": [
      "Processing...\n",
      "Done!\n"
     ]
    },
    {
     "data": {
      "text/plain": [
       "Data(x=[2518, 3], y=[2518], pos=[2518, 3], category=[1], edge_index=[2, 15108])"
      ]
     },
     "execution_count": 48,
     "metadata": {},
     "output_type": "execute_result"
    }
   ],
   "source": [
    "# Convert the point cloud dataset into a graph\n",
    "# We use the pre_transform to convert the data before saving it to disk\n",
    "# ImportError: 'knn_graph' requires 'torch-cluster' -> \n",
    "# -> pip install pyg_lib torch_scatter torch_sparse torch_cluster torch_spline_conv -f https://data.pyg.org/whl/torch-${TORCH}+${CUDA}.html\n",
    "# pip install pyg_lib torch_scatter torch_sparse torch_cluster torch_spline_conv -f https://data.pyg.org/whl/torch-2.3.0+cpu.html\n",
    "dataset = ShapeNet(root='/tmp/ShapeNet', categories=['Airplane'],\n",
    "                    pre_transform=T.KNNGraph(k=6))\n",
    "\n",
    "dataset[0]"
   ]
  },
  {
   "cell_type": "markdown",
   "id": "08270a79-9ab5-4255-8fe6-2c7794bb68da",
   "metadata": {},
   "source": [
    "In addition, we can use the transform argument to randomly augment a Data object, e.g., translating each node position by a small number"
   ]
  },
  {
   "cell_type": "code",
   "execution_count": 49,
   "id": "f1fc0f33-432d-4c8c-b7f7-99c50d70d8ca",
   "metadata": {},
   "outputs": [
    {
     "name": "stderr",
     "output_type": "stream",
     "text": [
      "/home/loc/miniconda3/envs/mlib/lib/python3.8/site-packages/torch_geometric/data/dataset.py:214: UserWarning: The `pre_transform` argument differs from the one used in the pre-processed version of this dataset. If you want to make use of another pre-processing technique, make sure to delete 'tmp/ShapeNet/processed' first\n",
      "  warnings.warn(\n"
     ]
    },
    {
     "data": {
      "text/plain": [
       "Data(x=[2518, 3], y=[2518], pos=[2518, 3], category=[1])"
      ]
     },
     "execution_count": 49,
     "metadata": {},
     "output_type": "execute_result"
    }
   ],
   "source": [
    "# We use the pre_transform to convert the data before saving it to disk\n",
    "dataset = ShapeNet(root='./tmp/ShapeNet',\n",
    "                   categories=['Airplane'],\n",
    "                   pre_transform=T.KNNGraph(k=6),\n",
    "                   transform=T.RandomJitter(0.01)\n",
    "                  )\n",
    "dataset[0]"
   ]
  },
  {
   "cell_type": "markdown",
   "id": "699592ca-0105-4cd6-92c1-0e1d0dc994b8",
   "metadata": {},
   "source": [
    "# Learning Methods on Graphs"
   ]
  },
  {
   "cell_type": "code",
   "execution_count": 56,
   "id": "4529f9ef-29ae-42e5-8022-900425cb3cfb",
   "metadata": {},
   "outputs": [],
   "source": [
    "import torch\n",
    "import torch.nn.functional as F\n",
    "from torch_geometric.nn import GCNConv\n",
    "from torch_geometric.datasets import Planetoid"
   ]
  },
  {
   "cell_type": "code",
   "execution_count": 57,
   "id": "d515bc23-368c-4188-aa95-3f76ff5e6b79",
   "metadata": {},
   "outputs": [],
   "source": [
    "dataset = Planetoid(root='./tmp/Cora',name='Cora')"
   ]
  },
  {
   "cell_type": "code",
   "execution_count": 58,
   "id": "3b27de41-7a50-4cb1-abad-6b5e5941b5fe",
   "metadata": {},
   "outputs": [],
   "source": [
    "class GCN(torch.nn.Module):\n",
    "    def __init__(self):\n",
    "        super().__init__()\n",
    "        self.conv1 = GCNConv(dataset.num_node_features, 16)\n",
    "        self.conv2 = GCNConv(16, dataset.num_classes)\n",
    "\n",
    "    def forward(self, data):\n",
    "        x , edge_index = data.x, data.edge_index\n",
    "        x = self.conv1(x, edge_index)\n",
    "        x = F.relu(x)\n",
    "        x = F.dropout(x, training=self.training)\n",
    "        x = self.conv2(x, edge_index)\n",
    "        \n",
    "        return F.log_softmax(x, dim=1)"
   ]
  },
  {
   "cell_type": "code",
   "execution_count": 59,
   "id": "40e3b22c-6285-45ac-8faf-28e3fe74fcce",
   "metadata": {},
   "outputs": [
    {
     "name": "stdout",
     "output_type": "stream",
     "text": [
      "device: cuda\n"
     ]
    }
   ],
   "source": [
    "device = torch.device('cuda' if torch.cuda.is_available() else 'cpu')\n",
    "print(f'device: {device}')"
   ]
  },
  {
   "cell_type": "code",
   "execution_count": 64,
   "id": "b7be2081-4a1d-490b-875c-ed63aab8c319",
   "metadata": {},
   "outputs": [],
   "source": [
    "model = GCN().to(device)"
   ]
  },
  {
   "cell_type": "code",
   "execution_count": 65,
   "id": "00e15ad8-a282-40ee-8b7a-cf8c3ed30cf0",
   "metadata": {},
   "outputs": [],
   "source": [
    "data = dataset[0].to(device)"
   ]
  },
  {
   "cell_type": "code",
   "execution_count": 66,
   "id": "9b19db18-5d02-4056-9d34-4cf723bf746f",
   "metadata": {},
   "outputs": [],
   "source": [
    "optimizer = torch.optim.Adam(model.parameters(), lr=0.01, weight_decay=5e-4)"
   ]
  },
  {
   "cell_type": "code",
   "execution_count": 67,
   "id": "e2ad5b7a-4bee-42af-991d-fccaa31db080",
   "metadata": {},
   "outputs": [
    {
     "name": "stdout",
     "output_type": "stream",
     "text": [
      "epoch=0,loss=1.9455114603042603\n",
      "epoch=1,loss=1.8429951667785645\n",
      "epoch=2,loss=1.7121249437332153\n",
      "epoch=3,loss=1.5596548318862915\n",
      "epoch=4,loss=1.4205514192581177\n",
      "epoch=5,loss=1.2978447675704956\n",
      "epoch=6,loss=1.1286779642105103\n",
      "epoch=7,loss=1.0362197160720825\n",
      "epoch=8,loss=0.9037310481071472\n",
      "epoch=9,loss=0.8179407715797424\n",
      "epoch=10,loss=0.7078883647918701\n",
      "epoch=11,loss=0.6095179319381714\n",
      "epoch=12,loss=0.5704272389411926\n",
      "epoch=13,loss=0.4828247129917145\n",
      "epoch=14,loss=0.4128057062625885\n",
      "epoch=15,loss=0.38286420702934265\n",
      "epoch=16,loss=0.3569647967815399\n",
      "epoch=17,loss=0.26963409781455994\n",
      "epoch=18,loss=0.2606673240661621\n",
      "epoch=19,loss=0.25787153840065\n",
      "epoch=20,loss=0.21835796535015106\n",
      "epoch=21,loss=0.22407560050487518\n",
      "epoch=22,loss=0.16507311165332794\n",
      "epoch=23,loss=0.17343175411224365\n",
      "epoch=24,loss=0.15525883436203003\n",
      "epoch=25,loss=0.13886618614196777\n",
      "epoch=26,loss=0.13131652772426605\n",
      "epoch=27,loss=0.11579317599534988\n",
      "epoch=28,loss=0.14060644805431366\n",
      "epoch=29,loss=0.11509215831756592\n",
      "epoch=30,loss=0.10690432786941528\n",
      "epoch=31,loss=0.0799810141324997\n",
      "epoch=32,loss=0.09024351835250854\n",
      "epoch=33,loss=0.10721542686223984\n",
      "epoch=34,loss=0.06509638577699661\n",
      "epoch=35,loss=0.06653117388486862\n",
      "epoch=36,loss=0.07286760210990906\n",
      "epoch=37,loss=0.09712131321430206\n",
      "epoch=38,loss=0.05538886785507202\n",
      "epoch=39,loss=0.0766635537147522\n",
      "epoch=40,loss=0.07447664439678192\n",
      "epoch=41,loss=0.05765853449702263\n",
      "epoch=42,loss=0.03604031726717949\n",
      "epoch=43,loss=0.04409930109977722\n",
      "epoch=44,loss=0.03735501319169998\n",
      "epoch=45,loss=0.04290582239627838\n",
      "epoch=46,loss=0.05955801159143448\n",
      "epoch=47,loss=0.08111823350191116\n",
      "epoch=48,loss=0.060837604105472565\n",
      "epoch=49,loss=0.0756758525967598\n",
      "epoch=50,loss=0.05989348515868187\n",
      "epoch=51,loss=0.04173218831419945\n",
      "epoch=52,loss=0.03310021013021469\n",
      "epoch=53,loss=0.03649923577904701\n",
      "epoch=54,loss=0.04715247452259064\n",
      "epoch=55,loss=0.04452184587717056\n",
      "epoch=56,loss=0.05115914344787598\n",
      "epoch=57,loss=0.04350266605615616\n",
      "epoch=58,loss=0.052377913147211075\n",
      "epoch=59,loss=0.06823906302452087\n",
      "epoch=60,loss=0.02836155705153942\n",
      "epoch=61,loss=0.03943353891372681\n",
      "epoch=62,loss=0.04210911691188812\n",
      "epoch=63,loss=0.04519549384713173\n",
      "epoch=64,loss=0.04047564044594765\n",
      "epoch=65,loss=0.040872007608413696\n",
      "epoch=66,loss=0.03916377201676369\n",
      "epoch=67,loss=0.06171666458249092\n",
      "epoch=68,loss=0.0317365936934948\n",
      "epoch=69,loss=0.028484363108873367\n",
      "epoch=70,loss=0.03791308403015137\n",
      "epoch=71,loss=0.04301780089735985\n",
      "epoch=72,loss=0.03739440068602562\n",
      "epoch=73,loss=0.037026695907115936\n",
      "epoch=74,loss=0.045118749141693115\n",
      "epoch=75,loss=0.04132425785064697\n",
      "epoch=76,loss=0.046029482036828995\n",
      "epoch=77,loss=0.04904603585600853\n",
      "epoch=78,loss=0.048554882407188416\n",
      "epoch=79,loss=0.033648014068603516\n",
      "epoch=80,loss=0.04830290004611015\n",
      "epoch=81,loss=0.02893698960542679\n",
      "epoch=82,loss=0.05810193344950676\n",
      "epoch=83,loss=0.035527996718883514\n",
      "epoch=84,loss=0.03731421008706093\n",
      "epoch=85,loss=0.04587913304567337\n",
      "epoch=86,loss=0.023777097463607788\n",
      "epoch=87,loss=0.03924519941210747\n",
      "epoch=88,loss=0.05712961032986641\n",
      "epoch=89,loss=0.03559834510087967\n",
      "epoch=90,loss=0.04164060950279236\n",
      "epoch=91,loss=0.03895096480846405\n",
      "epoch=92,loss=0.04516628757119179\n",
      "epoch=93,loss=0.030108517035841942\n",
      "epoch=94,loss=0.04070023447275162\n",
      "epoch=95,loss=0.0528595894575119\n",
      "epoch=96,loss=0.046068400144577026\n",
      "epoch=97,loss=0.046763382852077484\n",
      "epoch=98,loss=0.05737800523638725\n",
      "epoch=99,loss=0.03266211971640587\n",
      "epoch=100,loss=0.03868359327316284\n",
      "epoch=101,loss=0.04110654443502426\n",
      "epoch=102,loss=0.03837508335709572\n",
      "epoch=103,loss=0.03468460589647293\n",
      "epoch=104,loss=0.04421906918287277\n",
      "epoch=105,loss=0.04088006541132927\n",
      "epoch=106,loss=0.04089781641960144\n",
      "epoch=107,loss=0.04427715018391609\n",
      "epoch=108,loss=0.06254063546657562\n",
      "epoch=109,loss=0.06060370057821274\n",
      "epoch=110,loss=0.04223029315471649\n",
      "epoch=111,loss=0.03704289346933365\n",
      "epoch=112,loss=0.044139668345451355\n",
      "epoch=113,loss=0.03543102741241455\n",
      "epoch=114,loss=0.05207838490605354\n",
      "epoch=115,loss=0.02716599591076374\n",
      "epoch=116,loss=0.024053236469626427\n",
      "epoch=117,loss=0.029286010190844536\n",
      "epoch=118,loss=0.03590241074562073\n",
      "epoch=119,loss=0.03163035586476326\n",
      "epoch=120,loss=0.03016047552227974\n",
      "epoch=121,loss=0.05278204008936882\n",
      "epoch=122,loss=0.03740161284804344\n",
      "epoch=123,loss=0.03578399866819382\n",
      "epoch=124,loss=0.03406224027276039\n",
      "epoch=125,loss=0.044036634266376495\n",
      "epoch=126,loss=0.032276056706905365\n",
      "epoch=127,loss=0.0363348126411438\n",
      "epoch=128,loss=0.041108980774879456\n",
      "epoch=129,loss=0.02969648875296116\n",
      "epoch=130,loss=0.024870479479432106\n",
      "epoch=131,loss=0.028068771585822105\n",
      "epoch=132,loss=0.043773114681243896\n",
      "epoch=133,loss=0.06867973506450653\n",
      "epoch=134,loss=0.033245328813791275\n",
      "epoch=135,loss=0.025953058153390884\n",
      "epoch=136,loss=0.029657647013664246\n",
      "epoch=137,loss=0.04562162607908249\n",
      "epoch=138,loss=0.026097716763615608\n",
      "epoch=139,loss=0.042885180562734604\n",
      "epoch=140,loss=0.03890075162053108\n",
      "epoch=141,loss=0.033422961831092834\n",
      "epoch=142,loss=0.033896539360284805\n",
      "epoch=143,loss=0.027893830090761185\n",
      "epoch=144,loss=0.031979095190763474\n",
      "epoch=145,loss=0.029367467388510704\n",
      "epoch=146,loss=0.02590707689523697\n",
      "epoch=147,loss=0.02802586928009987\n",
      "epoch=148,loss=0.03384540602564812\n",
      "epoch=149,loss=0.02865385077893734\n",
      "epoch=150,loss=0.049449652433395386\n",
      "epoch=151,loss=0.03353756666183472\n",
      "epoch=152,loss=0.032201215624809265\n",
      "epoch=153,loss=0.03752242401242256\n",
      "epoch=154,loss=0.022141948342323303\n",
      "epoch=155,loss=0.026866309344768524\n",
      "epoch=156,loss=0.02646622620522976\n",
      "epoch=157,loss=0.03127286583185196\n",
      "epoch=158,loss=0.04340705648064613\n",
      "epoch=159,loss=0.031722523272037506\n",
      "epoch=160,loss=0.03036605380475521\n",
      "epoch=161,loss=0.04503355547785759\n",
      "epoch=162,loss=0.025582998991012573\n",
      "epoch=163,loss=0.026686225086450577\n",
      "epoch=164,loss=0.03812693804502487\n",
      "epoch=165,loss=0.04242083057761192\n",
      "epoch=166,loss=0.04309946298599243\n",
      "epoch=167,loss=0.03580496832728386\n",
      "epoch=168,loss=0.02654869481921196\n",
      "epoch=169,loss=0.03605702891945839\n",
      "epoch=170,loss=0.027745015919208527\n",
      "epoch=171,loss=0.02978518046438694\n",
      "epoch=172,loss=0.04262470081448555\n",
      "epoch=173,loss=0.024259479716420174\n",
      "epoch=174,loss=0.038311462849378586\n",
      "epoch=175,loss=0.03054969385266304\n",
      "epoch=176,loss=0.030558019876480103\n",
      "epoch=177,loss=0.021248796954751015\n",
      "epoch=178,loss=0.03678463026881218\n",
      "epoch=179,loss=0.03140617534518242\n",
      "epoch=180,loss=0.03865591809153557\n",
      "epoch=181,loss=0.026613252237439156\n",
      "epoch=182,loss=0.02485191449522972\n",
      "epoch=183,loss=0.024722827598452568\n",
      "epoch=184,loss=0.026354944333434105\n",
      "epoch=185,loss=0.01971205323934555\n",
      "epoch=186,loss=0.025110995396971703\n",
      "epoch=187,loss=0.033936891704797745\n",
      "epoch=188,loss=0.029061153531074524\n",
      "epoch=189,loss=0.027442744001746178\n",
      "epoch=190,loss=0.024967283010482788\n",
      "epoch=191,loss=0.04104262962937355\n",
      "epoch=192,loss=0.03871331736445427\n",
      "epoch=193,loss=0.027835030108690262\n",
      "epoch=194,loss=0.026579145342111588\n",
      "epoch=195,loss=0.039633724838495255\n",
      "epoch=196,loss=0.019076835364103317\n",
      "epoch=197,loss=0.02814854122698307\n",
      "epoch=198,loss=0.030107909813523293\n",
      "epoch=199,loss=0.01983879879117012\n"
     ]
    }
   ],
   "source": [
    "model.train()\n",
    "\n",
    "for epoch in range(200):\n",
    "    optimizer.zero_grad()\n",
    "    out = model(data)\n",
    "    loss = F.nll_loss(out[data.train_mask], data.y[data.train_mask])\n",
    "    print(f'epoch={epoch},loss={loss}')\n",
    "    loss.backward()\n",
    "    optimizer.step()\n",
    "    "
   ]
  },
  {
   "cell_type": "code",
   "execution_count": 71,
   "id": "eb2fe451-c812-487e-a173-1b582d6c8b5f",
   "metadata": {},
   "outputs": [
    {
     "data": {
      "text/plain": [
       "tensor([-9.0530e+00, -8.4368e+00, -7.5589e+00, -2.0623e-03, -8.6588e+00,\n",
       "        -8.4020e+00, -7.1221e+00], device='cuda:0', grad_fn=<SelectBackward0>)"
      ]
     },
     "execution_count": 71,
     "metadata": {},
     "output_type": "execute_result"
    }
   ],
   "source": [
    "model.eval()\n",
    "pred = model(data)\n",
    "pred[0]"
   ]
  },
  {
   "cell_type": "code",
   "execution_count": 73,
   "id": "b93f2de5-9d9d-40ba-9e6d-b6e8a328bc56",
   "metadata": {},
   "outputs": [
    {
     "data": {
      "text/plain": [
       "tensor(3, device='cuda:0')"
      ]
     },
     "execution_count": 73,
     "metadata": {},
     "output_type": "execute_result"
    }
   ],
   "source": [
    "pred = model(data).argmax(dim=1)\n",
    "pred[0]"
   ]
  },
  {
   "cell_type": "code",
   "execution_count": 74,
   "id": "908e54e2-6870-470a-a267-c29850508da2",
   "metadata": {},
   "outputs": [
    {
     "data": {
      "text/plain": [
       "tensor(808, device='cuda:0')"
      ]
     },
     "execution_count": 74,
     "metadata": {},
     "output_type": "execute_result"
    }
   ],
   "source": [
    "correct = (pred[data.test_mask] == data.y[data.test_mask]).sum()\n",
    "correct"
   ]
  },
  {
   "cell_type": "code",
   "execution_count": 75,
   "id": "ec0bee13-69cd-4740-8c84-0cafa1da786e",
   "metadata": {},
   "outputs": [
    {
     "name": "stdout",
     "output_type": "stream",
     "text": [
      "Accuracy: 0.8080\n"
     ]
    }
   ],
   "source": [
    "acc = int(correct) / int(data.test_mask.sum())\n",
    "print(f'Accuracy: {acc:.4f}')"
   ]
  }
 ],
 "metadata": {
  "kernelspec": {
   "display_name": "Python 3 (ipykernel)",
   "language": "python",
   "name": "python3"
  },
  "language_info": {
   "codemirror_mode": {
    "name": "ipython",
    "version": 3
   },
   "file_extension": ".py",
   "mimetype": "text/x-python",
   "name": "python",
   "nbconvert_exporter": "python",
   "pygments_lexer": "ipython3",
   "version": "3.8.19"
  }
 },
 "nbformat": 4,
 "nbformat_minor": 5
}
