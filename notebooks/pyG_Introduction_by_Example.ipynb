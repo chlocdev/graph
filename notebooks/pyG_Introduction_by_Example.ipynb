{
 "cells": [
  {
   "cell_type": "markdown",
   "id": "a62da887-db1c-4501-bfc2-bcf6a15153cc",
   "metadata": {},
   "source": [
    "# Data Handling of Graphs\n",
    "\n",
    "A single graph: `torch.geometric.data.Data` hold following attributes by default:\n",
    "- `data.x` (`[num_nodes, num_node_features]`): Node feature matrix\n",
    "- `data.edge_index` (`[2, num_edges]`): Graph connectivity in [COO format](https://pytorch.org/docs/stable/sparse.html#sparse-coo-docs) type `torch.long`\n",
    "- `data.edge_attr` (`[num_edges, num_edge_features]`): Edge feature matrix\n",
    "- `data.y` (Node-level targets of shape `[num_nodes, *]` or graph-level targets of shape  `[1, *]`): Target to train against\n",
    "- `data.x` (`[num_nodes, num_dimensions]`): Node position matrix"
   ]
  },
  {
   "cell_type": "code",
   "execution_count": 1,
   "id": "79ca0c7d-caa7-4258-bd6e-38afe04dd4a5",
   "metadata": {},
   "outputs": [],
   "source": [
    "import torch\n",
    "from torch_geometric.data import Data"
   ]
  },
  {
   "cell_type": "code",
   "execution_count": 2,
   "id": "88f48dfb-0ab1-4278-9cd8-82ac003d0805",
   "metadata": {},
   "outputs": [
    {
     "data": {
      "text/plain": [
       "Data(x=[3, 1], edge_index=[2, 4])"
      ]
     },
     "execution_count": 2,
     "metadata": {},
     "output_type": "execute_result"
    }
   ],
   "source": [
    "# Define source-target nodes of all edges\n",
    "edge_index  = torch.tensor([[0, 1, 1, 2],            \n",
    "                            [1, 0, 2, 1]], dtype=torch.long)\n",
    "\n",
    "x = torch.tensor([[-1],[0],[1]], dtype=torch.float)\n",
    "\n",
    "data = Data(x=x, edge_index = edge_index)\n",
    "data"
   ]
  },
  {
   "cell_type": "markdown",
   "id": "fe1a727b-8eb3-4d65-af1f-6adc55fc6a4a",
   "metadata": {},
   "source": [
    "If you want to write your indices this way, you should transpose and call `contiguous` on it before passing them to the data constructor:"
   ]
  },
  {
   "cell_type": "code",
   "execution_count": 3,
   "id": "df59b491-8c98-427e-bf29-9684fe8a1bf0",
   "metadata": {},
   "outputs": [
    {
     "data": {
      "text/plain": [
       "Data(x=[3, 1], edge_index=[2, 4])"
      ]
     },
     "execution_count": 3,
     "metadata": {},
     "output_type": "execute_result"
    }
   ],
   "source": [
    "x = torch.tensor([[-1],[0],[1]], dtype=torch.float) # [3,1]\n",
    "\n",
    "edge_index = torch.tensor([[0,1], # node 0->1\n",
    "                           [1,0], # node 1->0\n",
    "                           [1,2],\n",
    "                           [2,1],\n",
    "                        ],dtype=torch.long)\n",
    "\n",
    "data = Data(x=x, edge_index = edge_index.t().contiguous())\n",
    "data"
   ]
  },
  {
   "cell_type": "code",
   "execution_count": 4,
   "id": "bbd0054e-07de-4118-bb50-bbdee4cb4eff",
   "metadata": {},
   "outputs": [
    {
     "data": {
      "text/plain": [
       "True"
      ]
     },
     "execution_count": 4,
     "metadata": {},
     "output_type": "execute_result"
    }
   ],
   "source": [
    "# Check your final Data object\n",
    "data.validate(raise_on_error=True)"
   ]
  },
  {
   "cell_type": "markdown",
   "id": "3bb07819-b990-4624-9564-9675865e6c07",
   "metadata": {},
   "source": [
    "Besides holding a number of node-level, edge-level or graph-level attributes, Data provides a number of useful utility functions, e.g."
   ]
  },
  {
   "cell_type": "code",
   "execution_count": 5,
   "id": "69b9136d-f7b4-4a8e-9c82-27f017912e8c",
   "metadata": {},
   "outputs": [
    {
     "name": "stdout",
     "output_type": "stream",
     "text": [
      "['edge_index', 'x']\n"
     ]
    }
   ],
   "source": [
    "print(data.keys())"
   ]
  },
  {
   "cell_type": "code",
   "execution_count": 6,
   "id": "3f357cc1-0562-4d98-8d6e-fb4785a4c6fa",
   "metadata": {},
   "outputs": [
    {
     "name": "stdout",
     "output_type": "stream",
     "text": [
      "tensor([[-1.],\n",
      "        [ 0.],\n",
      "        [ 1.]])\n"
     ]
    }
   ],
   "source": [
    "print(data['x'])"
   ]
  },
  {
   "cell_type": "code",
   "execution_count": 7,
   "id": "98575bd6-f5a0-44f5-a83e-8a6e41f81c8e",
   "metadata": {},
   "outputs": [
    {
     "name": "stdout",
     "output_type": "stream",
     "text": [
      "x: found in data\n",
      "edge_index: found in data\n"
     ]
    }
   ],
   "source": [
    "for key, item in data:\n",
    "    print(f'{key}: found in data')"
   ]
  },
  {
   "cell_type": "code",
   "execution_count": 8,
   "id": "bc4500a9-0390-4b2a-b8a3-0803ef36f758",
   "metadata": {},
   "outputs": [
    {
     "data": {
      "text/plain": [
       "False"
      ]
     },
     "execution_count": 8,
     "metadata": {},
     "output_type": "execute_result"
    }
   ],
   "source": [
    "'edge_attr' in data"
   ]
  },
  {
   "cell_type": "markdown",
   "id": "b7014a2c-982e-4209-aecb-80e31e9a9ca7",
   "metadata": {},
   "source": [
    "Analyzing the graph structure"
   ]
  },
  {
   "cell_type": "code",
   "execution_count": 9,
   "id": "2fe8f51d-0804-4ba1-9a8f-b189e8de533f",
   "metadata": {},
   "outputs": [
    {
     "data": {
      "text/plain": [
       "3"
      ]
     },
     "execution_count": 9,
     "metadata": {},
     "output_type": "execute_result"
    }
   ],
   "source": [
    "data.num_nodes"
   ]
  },
  {
   "cell_type": "code",
   "execution_count": 10,
   "id": "a0c3d6a9-24c1-4e94-afb4-9dc7238d7c24",
   "metadata": {},
   "outputs": [
    {
     "data": {
      "text/plain": [
       "4"
      ]
     },
     "execution_count": 10,
     "metadata": {},
     "output_type": "execute_result"
    }
   ],
   "source": [
    "data.num_edges"
   ]
  },
  {
   "cell_type": "code",
   "execution_count": 11,
   "id": "9dad25a7-972b-42f6-92cd-6994d552f9ac",
   "metadata": {},
   "outputs": [
    {
     "data": {
      "text/plain": [
       "1"
      ]
     },
     "execution_count": 11,
     "metadata": {},
     "output_type": "execute_result"
    }
   ],
   "source": [
    "data.num_node_features"
   ]
  },
  {
   "cell_type": "code",
   "execution_count": 12,
   "id": "d94312c8-9859-4b8e-ac9e-674fc1e8da4f",
   "metadata": {},
   "outputs": [
    {
     "data": {
      "text/plain": [
       "False"
      ]
     },
     "execution_count": 12,
     "metadata": {},
     "output_type": "execute_result"
    }
   ],
   "source": [
    "data.has_isolated_nodes()"
   ]
  },
  {
   "cell_type": "code",
   "execution_count": 13,
   "id": "7794d93a-1950-49ce-8d84-0771d0dcf81c",
   "metadata": {},
   "outputs": [
    {
     "data": {
      "text/plain": [
       "False"
      ]
     },
     "execution_count": 13,
     "metadata": {},
     "output_type": "execute_result"
    }
   ],
   "source": [
    "data.has_self_loops()"
   ]
  },
  {
   "cell_type": "code",
   "execution_count": 14,
   "id": "17e5b97e-1fc7-4b0d-8107-f321015696b8",
   "metadata": {},
   "outputs": [
    {
     "name": "stdout",
     "output_type": "stream",
     "text": [
      "Transfer to: cuda\n"
     ]
    }
   ],
   "source": [
    "# Transfer data object to GPU\n",
    "device = torch.device('cuda') if torch.cuda.is_available() else 'cpu'\n",
    "print('Transfer to:',device)\n",
    "\n",
    "data = data.to(device)"
   ]
  },
  {
   "cell_type": "markdown",
   "id": "d6353345-212c-4ea8-afee-3819c16d0477",
   "metadata": {},
   "source": [
    "# Common Benchmark Datasets"
   ]
  },
  {
   "cell_type": "code",
   "execution_count": 15,
   "id": "e15b27f0-df26-4ca2-9208-499f8402ee22",
   "metadata": {},
   "outputs": [],
   "source": [
    "from torch_geometric.datasets import TUDataset"
   ]
  },
  {
   "cell_type": "code",
   "execution_count": 22,
   "id": "b930ec2b-12af-48ea-b55b-c31d3ac1c68a",
   "metadata": {},
   "outputs": [
    {
     "ename": "TypeError",
     "evalue": "__init__() missing 1 required positional argument: 'root'",
     "output_type": "error",
     "traceback": [
      "\u001b[0;31m---------------------------------------------------------------------------\u001b[0m",
      "\u001b[0;31mTypeError\u001b[0m                                 Traceback (most recent call last)",
      "Cell \u001b[0;32mIn[22], line 2\u001b[0m\n\u001b[1;32m      1\u001b[0m \u001b[38;5;66;03m# https://pytorch-geometric.readthedocs.io/en/latest/generated/torch_geometric.datasets.TUDataset.html#torch_geometric.datasets.TUDataset\u001b[39;00m\n\u001b[0;32m----> 2\u001b[0m dataset \u001b[38;5;241m=\u001b[39m \u001b[43mTUDataset\u001b[49m\u001b[43m(\u001b[49m\u001b[43mname\u001b[49m\u001b[38;5;241;43m=\u001b[39;49m\u001b[38;5;124;43m'\u001b[39;49m\u001b[38;5;124;43mMUTAG\u001b[39;49m\u001b[38;5;124;43m'\u001b[39;49m\u001b[43m)\u001b[49m\n",
      "\u001b[0;31mTypeError\u001b[0m: __init__() missing 1 required positional argument: 'root'"
     ]
    }
   ],
   "source": [
    "# https://pytorch-geometric.readthedocs.io/en/latest/generated/torch_geometric.datasets.TUDataset.html#torch_geometric.datasets.TUDataset\n",
    "dataset = TUDataset(name='MUTAG')"
   ]
  },
  {
   "cell_type": "code",
   "execution_count": null,
   "id": "2e42084f-60cb-4105-8ac3-7dea362d18d3",
   "metadata": {},
   "outputs": [],
   "source": []
  }
 ],
 "metadata": {
  "kernelspec": {
   "display_name": "Python 3 (ipykernel)",
   "language": "python",
   "name": "python3"
  },
  "language_info": {
   "codemirror_mode": {
    "name": "ipython",
    "version": 3
   },
   "file_extension": ".py",
   "mimetype": "text/x-python",
   "name": "python",
   "nbconvert_exporter": "python",
   "pygments_lexer": "ipython3",
   "version": "3.8.19"
  }
 },
 "nbformat": 4,
 "nbformat_minor": 5
}
