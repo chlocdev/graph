{
 "cells": [
  {
   "cell_type": "code",
   "execution_count": 1,
   "id": "ee2e6fb9-9bee-471e-8b02-e918e75af2ae",
   "metadata": {},
   "outputs": [],
   "source": [
    "import os\n",
    "import warnings\n",
    "from langchain_community.graphs import Neo4jGraph\n",
    "\n",
    "# Warning control\n",
    "warnings.filterwarnings(\"ignore\")"
   ]
  },
  {
   "cell_type": "code",
   "execution_count": 2,
   "id": "d3054d74-10be-4819-85b1-b7c4d267a424",
   "metadata": {},
   "outputs": [],
   "source": [
    "NEO4J_URI = ''\n",
    "NEO4J_USERNAME = ''\n",
    "NEO4J_PASSWORD = ''\n",
    "NEO4J_DATABASE = ''"
   ]
  },
  {
   "cell_type": "code",
   "execution_count": null,
   "id": "5e5d04d7-e897-429a-a16a-cd167287a4ce",
   "metadata": {},
   "outputs": [],
   "source": []
  }
 ],
 "metadata": {
  "kernelspec": {
   "display_name": "Python 3 (ipykernel)",
   "language": "python",
   "name": "python3"
  },
  "language_info": {
   "codemirror_mode": {
    "name": "ipython",
    "version": 3
   },
   "file_extension": ".py",
   "mimetype": "text/x-python",
   "name": "python",
   "nbconvert_exporter": "python",
   "pygments_lexer": "ipython3",
   "version": "3.8.19"
  }
 },
 "nbformat": 4,
 "nbformat_minor": 5
}
