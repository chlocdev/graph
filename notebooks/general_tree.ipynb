{
 "cells": [
  {
   "cell_type": "code",
   "execution_count": 1,
   "id": "ecacd7c5-456b-454a-9b21-88235cbe84ef",
   "metadata": {},
   "outputs": [],
   "source": [
    "class TreeNode:\n",
    "    def __init__(self, data):\n",
    "        self.data = data\n",
    "        self.children = []\n",
    "        self.parent = None\n",
    "\n",
    "    def add_child(self, child):\n",
    "        child.parent = self # set parrent for the child\n",
    "        self.children.append(child) # append the children into node\n",
    "\n",
    "    def get_level(self):\n",
    "        '''\n",
    "        Go the level of index by counting parent of node\n",
    "        '''\n",
    "        level = 0\n",
    "        p = self.parent # get current parent\n",
    "        # if there are parent then check the parrent of the parrent\n",
    "        while p:\n",
    "            level +=1\n",
    "            p = p.parent # update parent\n",
    "        return level\n",
    "\n",
    "    def print_tree(self):\n",
    "        spaces = ' ' * self.get_level() * 3\n",
    "        prefix = spaces + \"|___\" if self.parent else \"\"\n",
    "        print(prefix, self.data)\n",
    "        if len(self.children) >0:\n",
    "            for child in self.children:\n",
    "                child.print_tree()"
   ]
  },
  {
   "cell_type": "code",
   "execution_count": 2,
   "id": "2309a4eb-9378-4a16-be9f-183521de3c92",
   "metadata": {},
   "outputs": [],
   "source": [
    "def build_product_tree():\n",
    "    # Define root node\n",
    "    root = TreeNode(\"Electronics\")\n",
    "    \n",
    "    # Define child nodes\n",
    "    laptop = TreeNode(\"Laptop\")\n",
    "    laptop.add_child(TreeNode(\"Mac\"))\n",
    "    laptop.add_child(TreeNode(\"Surface\"))\n",
    "    laptop.add_child(TreeNode(\"Thinkpad\"))\n",
    "\n",
    "    cellphone = TreeNode(\"Cell Phone\")\n",
    "    cellphone.add_child(TreeNode(\"iPhone\"))\n",
    "    cellphone.add_child(TreeNode(\"Google Pixel\"))\n",
    "    cellphone.add_child(TreeNode(\"Vivo\"))\n",
    "\n",
    "    tv = TreeNode(\"TV\")\n",
    "    tv.add_child(TreeNode(\"Samsung\"))\n",
    "    tv.add_child(TreeNode(\"LG\"))\n",
    "    \n",
    "    # Add child to root node\n",
    "    root.add_child(laptop)\n",
    "    root.add_child(cellphone)\n",
    "    root.add_child(tv)\n",
    "    \n",
    "    return root"
   ]
  },
  {
   "cell_type": "code",
   "execution_count": 3,
   "id": "13616e5a-a165-4e70-86d8-ae28fac6efe0",
   "metadata": {},
   "outputs": [],
   "source": [
    "root = build_product_tree()"
   ]
  },
  {
   "cell_type": "code",
   "execution_count": 4,
   "id": "a91c6a0a-58f6-4ed2-ac83-34fe29b334e4",
   "metadata": {},
   "outputs": [
    {
     "name": "stdout",
     "output_type": "stream",
     "text": [
      "0 Laptop\n",
      "|_ 0 Mac\n",
      "|_ 1 Surface\n",
      "|_ 2 Thinkpad\n",
      "1 Cell Phone\n",
      "|_ 0 iPhone\n",
      "|_ 1 Google Pixel\n",
      "|_ 2 Vivo\n",
      "2 TV\n",
      "|_ 0 Samsung\n",
      "|_ 1 LG\n"
     ]
    }
   ],
   "source": [
    "for i,child in enumerate(root.children):\n",
    "    print(i,child.data)\n",
    "    for j, c in enumerate(child.children):\n",
    "        print('|_',j, c.data)"
   ]
  },
  {
   "cell_type": "code",
   "execution_count": 5,
   "id": "f80786e5-dc5b-4c65-9506-d2877ac48313",
   "metadata": {},
   "outputs": [
    {
     "name": "stdout",
     "output_type": "stream",
     "text": [
      " Electronics\n",
      "   |___ Laptop\n",
      "      |___ Mac\n",
      "      |___ Surface\n",
      "      |___ Thinkpad\n",
      "   |___ Cell Phone\n",
      "      |___ iPhone\n",
      "      |___ Google Pixel\n",
      "      |___ Vivo\n",
      "   |___ TV\n",
      "      |___ Samsung\n",
      "      |___ LG\n"
     ]
    }
   ],
   "source": [
    "root.print_tree()"
   ]
  },
  {
   "cell_type": "code",
   "execution_count": 6,
   "id": "0ce7be4d-f4f3-42b5-81a7-38b938e5a503",
   "metadata": {},
   "outputs": [
    {
     "data": {
      "text/plain": [
       "0"
      ]
     },
     "execution_count": 6,
     "metadata": {},
     "output_type": "execute_result"
    }
   ],
   "source": [
    "root.get_level()"
   ]
  },
  {
   "cell_type": "code",
   "execution_count": null,
   "id": "fe000dad-87b6-4709-8e3e-78276e5be967",
   "metadata": {},
   "outputs": [],
   "source": []
  }
 ],
 "metadata": {
  "kernelspec": {
   "display_name": "Python 3 (ipykernel)",
   "language": "python",
   "name": "python3"
  },
  "language_info": {
   "codemirror_mode": {
    "name": "ipython",
    "version": 3
   },
   "file_extension": ".py",
   "mimetype": "text/x-python",
   "name": "python",
   "nbconvert_exporter": "python",
   "pygments_lexer": "ipython3",
   "version": "3.8.19"
  }
 },
 "nbformat": 4,
 "nbformat_minor": 5
}
