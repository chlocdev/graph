{
 "cells": [
  {
   "cell_type": "markdown",
   "id": "a1b1a99e-36f6-45fb-b047-99b39304656d",
   "metadata": {},
   "source": [
    "- General Tree\n",
    "- Binary Tree ( each node have 2 child )\n",
    "- Binary Search Tree ( Binary Tree + Specific other left-right and can not have duplicate element)"
   ]
  },
  {
   "cell_type": "code",
   "execution_count": 1,
   "id": "32e6cb62-5bfb-44c9-8a74-54b32497b246",
   "metadata": {},
   "outputs": [
    {
     "data": {
      "text/plain": [
       "['USA', 'India', 'USA', 'China', 'India']"
      ]
     },
     "execution_count": 1,
     "metadata": {},
     "output_type": "execute_result"
    }
   ],
   "source": [
    "# Set in python\n",
    "countries = ['USA','India','USA','China','India']\n",
    "countries"
   ]
  },
  {
   "cell_type": "code",
   "execution_count": 2,
   "id": "e5b8aa2e-d83e-4e0d-aaec-f9556f4e21f3",
   "metadata": {},
   "outputs": [
    {
     "data": {
      "text/plain": [
       "{'China', 'India', 'USA'}"
      ]
     },
     "execution_count": 2,
     "metadata": {},
     "output_type": "execute_result"
    }
   ],
   "source": [
    "countries_set  = set(countries)\n",
    "countries_set"
   ]
  },
  {
   "cell_type": "markdown",
   "id": "792444b2-1381-4639-8c14-c7fc1749f1a2",
   "metadata": {},
   "source": [
    "**Search methods**\n",
    "\n",
    "Breadth first search\n",
    "\n",
    "Depth first search\n",
    "- In order traversal\n",
    "- Pre order traversal\n",
    "- Post order traversal"
   ]
  },
  {
   "cell_type": "code",
   "execution_count": 3,
   "id": "31ace3b6-89b3-4131-ae7a-80d85a8ae99e",
   "metadata": {},
   "outputs": [],
   "source": [
    "class BSTNode:\n",
    "    def __init__(self, data):\n",
    "        self.data = data\n",
    "        self.left = None\n",
    "        self.right = None\n",
    "\n",
    "    def add_child(self, data):\n",
    "        if data == self.data:\n",
    "            return # node already exist\n",
    "\n",
    "        if data < self.data:\n",
    "            if self.left:\n",
    "                self.left.add_child(data)\n",
    "            else:\n",
    "                self.left = BSTNode(data)\n",
    "        else:\n",
    "            if self.right:\n",
    "                self.right.add_child(data)\n",
    "            else:\n",
    "                self.right = BSTNode(data)\n",
    "\n",
    "\n",
    "    def search(self, val):\n",
    "        if self.data == val:\n",
    "            return True\n",
    "\n",
    "        if val < self.data:\n",
    "            if self.left:\n",
    "                return self.left.search(val)\n",
    "            else:\n",
    "                return False\n",
    "\n",
    "        if val > self.data:\n",
    "            if self.right:\n",
    "                return self.right.search(val)\n",
    "            else:\n",
    "                return False\n",
    "\n",
    "    def in_order_traversal(self):\n",
    "        elements = []\n",
    "        if self.left:\n",
    "            elements += self.left.in_order_traversal()\n",
    "\n",
    "        elements.append(self.data)\n",
    "\n",
    "        if self.right:\n",
    "            elements += self.right.in_order_traversal()\n",
    "\n",
    "        return elements\n",
    "    \n",
    "    def calculate_sum(self):\n",
    "        pass\n",
    "\n",
    "    def post_order_traversal(self):\n",
    "        pass\n",
    "\n",
    "    def pre_order_traversal(self):\n",
    "        pass\n",
    "\n",
    "    def delete(self, val):\n",
    "        if val < self.data:\n",
    "            if self.left:\n",
    "                self.left = self.left.delete(val)\n",
    "        elif val > self.data:\n",
    "            if self.right:\n",
    "                self.right = self.right.delete(val)\n",
    "        else:\n",
    "            if self.left is None and self.right is None:\n",
    "                return None\n",
    "            elif self.left is None:\n",
    "                return self.right\n",
    "            elif self.right is None:\n",
    "                return self.left\n",
    "\n",
    "            min_val = self.right.find_min()\n",
    "            self.data = min_val\n",
    "            self.right = self.right.delete(min_val)\n",
    "\n",
    "        return self\n",
    "\n",
    "    def find_max(self):\n",
    "        if self.right is None:\n",
    "            return self.data\n",
    "        return self.right.find_max()\n",
    "\n",
    "    def find_min(self):\n",
    "        if self.left is None:\n",
    "            return self.data\n",
    "        return self.left.find_min()"
   ]
  },
  {
   "cell_type": "code",
   "execution_count": 4,
   "id": "98e36c47-3645-44fa-bdde-4ad53311c004",
   "metadata": {},
   "outputs": [],
   "source": [
    "def build_tree(elements):\n",
    "    # the first node is the root node\n",
    "    root = BSTNode(elements[0])\n",
    "\n",
    "    for i in range(1, len(elements)):\n",
    "        root.add_child(elements[i])\n",
    "\n",
    "    return root"
   ]
  },
  {
   "cell_type": "code",
   "execution_count": 5,
   "id": "74ba5fbc-0067-41a9-bfe9-5087a864f605",
   "metadata": {},
   "outputs": [
    {
     "name": "stdout",
     "output_type": "stream",
     "text": [
      "[1, 4, 9, 17, 18, 20, 23]\n"
     ]
    }
   ],
   "source": [
    "numbers = [17,4,1,20,9,23,18,4]\n",
    "\n",
    "numbers_tree = build_tree(numbers)\n",
    "\n",
    "print(numbers_tree.in_order_traversal())"
   ]
  },
  {
   "cell_type": "code",
   "execution_count": 6,
   "id": "e5be07be-b8fc-4bca-baf1-bfefc9a05d9a",
   "metadata": {},
   "outputs": [
    {
     "name": "stdout",
     "output_type": "stream",
     "text": [
      "[1, 4, 9, 17, 18, 20, 23, 34]\n"
     ]
    }
   ],
   "source": [
    "numbers = [17,4,1,20,9,23,18,34]\n",
    "\n",
    "numbers_tree = build_tree(numbers)\n",
    "\n",
    "print(numbers_tree.in_order_traversal())"
   ]
  },
  {
   "cell_type": "code",
   "execution_count": 7,
   "id": "d1856ae7-871c-40b7-8141-a959648fc20c",
   "metadata": {},
   "outputs": [
    {
     "data": {
      "text/plain": [
       "True"
      ]
     },
     "execution_count": 7,
     "metadata": {},
     "output_type": "execute_result"
    }
   ],
   "source": [
    "numbers_tree.search(20)"
   ]
  },
  {
   "cell_type": "code",
   "execution_count": 8,
   "id": "ddb249ee-393f-4af8-ad4f-d9155d3e2f01",
   "metadata": {},
   "outputs": [
    {
     "data": {
      "text/plain": [
       "17"
      ]
     },
     "execution_count": 8,
     "metadata": {},
     "output_type": "execute_result"
    }
   ],
   "source": [
    "numbers_tree.data"
   ]
  },
  {
   "cell_type": "code",
   "execution_count": 9,
   "id": "03d4dbbf-b586-4a0f-a942-5f2bec0c2b1c",
   "metadata": {},
   "outputs": [
    {
     "name": "stdout",
     "output_type": "stream",
     "text": [
      "UK is in the list?  True\n",
      "Sweden is in the list?  False\n"
     ]
    }
   ],
   "source": [
    "countries = [\"India\",\"Pakistan\",\"Germany\", \"USA\",\"China\",\"India\",\"UK\",\"USA\"]\n",
    "country_tree = build_tree(countries)\n",
    "\n",
    "print(\"UK is in the list? \", country_tree.search(\"UK\"))\n",
    "print(\"Sweden is in the list? \", country_tree.search(\"Sweden\"))"
   ]
  },
  {
   "cell_type": "markdown",
   "id": "0ab89267-d6fd-4b00-a818-09395a6dfc89",
   "metadata": {},
   "source": [
    "**Delete**"
   ]
  },
  {
   "cell_type": "code",
   "execution_count": 10,
   "id": "b5bec14e-87e7-4988-b0f6-1d0243e03355",
   "metadata": {},
   "outputs": [
    {
     "name": "stdout",
     "output_type": "stream",
     "text": [
      "[1, 4, 9, 17, 18, 20, 23, 34]\n"
     ]
    }
   ],
   "source": [
    "numbers = [17,4,1,20,9,23,18,34]\n",
    "\n",
    "numbers_tree = build_tree(numbers)\n",
    "\n",
    "print(numbers_tree.in_order_traversal())"
   ]
  },
  {
   "cell_type": "code",
   "execution_count": 11,
   "id": "31d67e6f-0ad6-4cb8-9c02-37e74433a368",
   "metadata": {},
   "outputs": [
    {
     "name": "stdout",
     "output_type": "stream",
     "text": [
      "[1, 4, 9, 17, 18, 23, 34]\n"
     ]
    }
   ],
   "source": [
    "numbers_tree.delete(20)\n",
    "print(numbers_tree.in_order_traversal())"
   ]
  },
  {
   "cell_type": "code",
   "execution_count": null,
   "id": "3b36219d-b199-415b-bb49-eeac4fdfd0dd",
   "metadata": {},
   "outputs": [],
   "source": []
  },
  {
   "cell_type": "code",
   "execution_count": null,
   "id": "acd40a4a-c044-4a6c-a61f-7cab78b244fe",
   "metadata": {},
   "outputs": [],
   "source": []
  }
 ],
 "metadata": {
  "kernelspec": {
   "display_name": "Python 3 (ipykernel)",
   "language": "python",
   "name": "python3"
  },
  "language_info": {
   "codemirror_mode": {
    "name": "ipython",
    "version": 3
   },
   "file_extension": ".py",
   "mimetype": "text/x-python",
   "name": "python",
   "nbconvert_exporter": "python",
   "pygments_lexer": "ipython3",
   "version": "3.8.19"
  }
 },
 "nbformat": 4,
 "nbformat_minor": 5
}
